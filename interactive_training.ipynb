{
  "cells": [
    {
      "cell_type": "code",
      "execution_count": null,
      "metadata": {},
      "outputs": [],
      "source": [
        "# Interactive Training Notebook\n",
        "# Use: Run cells top-to-bottom. Adjust config overrides in the next cell.\n",
        "import os, sys\n",
        "sys.path.append('.')\n",
        "\n",
        "from config import get_config, ProjectConfig\n",
        "from src.data.data_manager import create_data_manager\n",
        "from src.models.model import create_model\n",
        "from src.training.trainer import create_trainer\n",
        "from src.visualization.visualizer import create_visualizer\n",
        "\n",
        "import torch\n",
        "\n",
        "device = torch.device('cuda' if torch.cuda.is_available() else 'cpu')\n",
        "config = get_config()\n",
        "config.training.device = 'cuda' if torch.cuda.is_available() else 'cpu'\n",
        "\n",
        "print(f\"Device: {device}\")\n",
        "print(f\"Batch size: {config.data.batch_size}\")\n",
        "print(f\"Scheduler: {config.training.scheduler_type}, base LR={config.training.learning_rate}, max_lr={getattr(config.training,'max_lr', None)}\")\n"
      ]
    },
    {
      "cell_type": "code",
      "execution_count": null,
      "metadata": {},
      "outputs": [],
      "source": [
        "# Optional: override some config values here\n",
        "# Example: faster experimentation\n",
        "config.training.max_epochs = 30\n",
        "config.training.scheduler_type = 'OneCycleLR'\n",
        "config.training.learning_rate = 0.003\n",
        "config.training.max_lr = 0.2\n",
        "config.training.post_target_extra_epochs = 3\n",
        "config.training.target_test_accuracy = 85.0\n",
        "\n",
        "# Print quick summary\n",
        "from config import print_config\n",
        "print_config(config)\n"
      ]
    },
    {
      "cell_type": "code",
      "execution_count": null,
      "metadata": {},
      "outputs": [],
      "source": [
        "# Data\n",
        "data_manager = create_data_manager(config.data)\n",
        "# Optionally compute dataset stats (commented for speed)\n",
        "# mean, std = data_manager.calculate_dataset_statistics()\n",
        "train_t, test_t = data_manager.create_transforms()\n",
        "train_ds, test_ds = data_manager.load_datasets(train_t, test_t)\n",
        "train_loader, test_loader = data_manager.create_data_loaders(train_ds, test_ds)\n",
        "\n",
        "print(len(train_loader), len(test_loader))\n"
      ]
    },
    {
      "cell_type": "code",
      "execution_count": null,
      "metadata": {},
      "outputs": [],
      "source": [
        "# Model and trainer\n",
        "model = create_model(config.model).to(device)\n",
        "trainer = create_trainer(model, config.training, device)\n",
        "\n",
        "metrics = trainer.train(\n",
        "    train_loader,\n",
        "    test_loader,\n",
        "    max_epochs=config.training.max_epochs,\n",
        "    target_test_acc=config.training.target_test_accuracy,\n",
        "    post_target_extra_epochs=config.training.post_target_extra_epochs,\n",
        ")\n",
        "\n",
        "best = metrics.get_best_metrics()\n",
        "print(\"\\nTraining completed!\")\n",
        "print(f\"Best test accuracy: {best.get('best_test_accuracy', float('nan')):.2f}%\")\n",
        "print(f\"Best epoch: {best.get('best_epoch', -1)}\")\n"
      ]
    },
    {
      "cell_type": "code",
      "execution_count": null,
      "metadata": {},
      "outputs": [],
      "source": [
        "# Visualize curves\n",
        "visualizer = create_visualizer(config.visualization)\n",
        "visualizer.plot_training_curves(\n",
        "    metrics.train_losses,\n",
        "    metrics.train_accuracies,\n",
        "    metrics.learning_rates,\n",
        "    None,  # or provide a save path like 'training_curves.png'\n",
        "    metrics.test_accuracies,\n",
        "    metrics.test_losses,\n",
        ")\n",
        "\n"
      ]
    },
    {
      "cell_type": "code",
      "execution_count": null,
      "metadata": {},
      "outputs": [],
      "source": [
        "# Optional: visualize per-class accuracy and misclassified images\n",
        "from src.data.data_manager import CIFAR10DataManager\n",
        "class_names = train_ds.classes\n",
        "\n",
        "# Per-class accuracy\n",
        "_ = visualizer.plot_per_class_accuracy(model, test_loader, class_names, device)\n",
        "\n",
        "# Misclassified images\n",
        "visualizer.analyze_misclassified_images(model, test_loader, class_names, device=device, num_images=16)\n"
      ]
    }
  ],
  "metadata": {
    "language_info": {
      "name": "python"
    }
  },
  "nbformat": 4,
  "nbformat_minor": 2
}
